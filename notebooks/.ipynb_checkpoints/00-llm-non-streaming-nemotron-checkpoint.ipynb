{
 "cells": [
  {
   "cell_type": "markdown",
   "id": "6c615894",
   "metadata": {},
   "source": [
    "# Basics: Prompt, Client, and Responses"
   ]
  },
  {
   "cell_type": "code",
   "execution_count": 6,
   "id": "6067ffdb",
   "metadata": {},
   "outputs": [
    {
     "name": "stderr",
     "output_type": "stream",
     "text": [
      "/usr/local/lib/python3.10/dist-packages/tritonclient/grpc/service_pb2_grpc.py:21: RuntimeWarning: The grpc package installed is at version 1.58.0, but the generated code in grpc_service_pb2_grpc.py depends on grpcio>=1.64.0. Please upgrade your grpc module to grpcio>=1.64.0 or downgrade your generated code using grpcio-tools<=1.58.0. This warning will become an error in 1.65.0, scheduled for release on June 25, 2024.\n",
      "  warnings.warn(\n"
     ]
    }
   ],
   "source": [
    "from triton_trt_llm import HttpTritonClient"
   ]
  },
  {
   "cell_type": "markdown",
   "id": "f6bee64b",
   "metadata": {},
   "source": [
    "#### Step 1: Structure the Query in a Prompt Template"
   ]
  },
  {
   "cell_type": "code",
   "execution_count": 11,
   "id": "feffc56a",
   "metadata": {},
   "outputs": [],
   "source": [
    "NEMOTRON_PROMPT_TEMPLATE = (\n",
    " \"\"\"<extra_id_0>System\n",
    "{system}\n",
    "<extra_id_1>User\n",
    "{prompt}\n",
    "<extra_id_1>Assistant\n",
    "\"\"\"\n",
    ")\n",
    "system = \"You are a helpful, respectful and honest assistant. Always answer as helpfully as possible, while being safe. Please ensure that your responses are positive in nature.\"\n",
    "prompt = 'What is the fastest land animal?'\n",
    "prompt = NEMOTRON_PROMPT_TEMPLATE.format(prompt=prompt, system=system)"
   ]
  },
  {
   "cell_type": "markdown",
   "id": "4a2002aa",
   "metadata": {},
   "source": [
    "#### Step 2: Create the Triton Client"
   ]
  },
  {
   "cell_type": "code",
   "execution_count": 12,
   "id": "e2d75abf",
   "metadata": {},
   "outputs": [],
   "source": [
    "triton_url = \"llm:8000\"\n",
    "client = HttpTritonClient(triton_url)"
   ]
  },
  {
   "cell_type": "code",
   "execution_count": 13,
   "id": "df0adc99",
   "metadata": {},
   "outputs": [],
   "source": [
    "pload = {\n",
    "            'prompt':[[prompt]],\n",
    "            'tokens':64,\n",
    "            'temperature':1.0,\n",
    "            'top_k':1,\n",
    "            'top_p':0,\n",
    "            'beam_width':1,\n",
    "            'repetition_penalty':1.0,\n",
    "            'length_penalty':1.0\n",
    "}"
   ]
  },
  {
   "cell_type": "markdown",
   "id": "4a803617",
   "metadata": {},
   "source": [
    "#### Step 3: Load the Model and Generate Response"
   ]
  },
  {
   "cell_type": "code",
   "execution_count": 14,
   "id": "b5f29460",
   "metadata": {
    "scrolled": true
   },
   "outputs": [
    {
     "ename": "gaierror",
     "evalue": "[Errno -5] No address associated with hostname",
     "output_type": "error",
     "traceback": [
      "\u001b[0;31m---------------------------------------------------------------------------\u001b[0m",
      "\u001b[0;31mEmpty\u001b[0m                                     Traceback (most recent call last)",
      "File \u001b[0;32m/usr/local/lib/python3.10/dist-packages/geventhttpclient/connectionpool.py:163\u001b[0m, in \u001b[0;36mConnectionPool.get_socket\u001b[0;34m(self)\u001b[0m\n\u001b[1;32m    162\u001b[0m \u001b[38;5;28;01mtry\u001b[39;00m:\n\u001b[0;32m--> 163\u001b[0m     \u001b[38;5;28;01mreturn\u001b[39;00m \u001b[38;5;28;43mself\u001b[39;49m\u001b[38;5;241;43m.\u001b[39;49m\u001b[43m_socket_queue\u001b[49m\u001b[38;5;241;43m.\u001b[39;49m\u001b[43mget\u001b[49m\u001b[43m(\u001b[49m\u001b[43mblock\u001b[49m\u001b[38;5;241;43m=\u001b[39;49m\u001b[38;5;28;43;01mFalse\u001b[39;49;00m\u001b[43m)\u001b[49m\n\u001b[1;32m    164\u001b[0m \u001b[38;5;28;01mexcept\u001b[39;00m gevent\u001b[38;5;241m.\u001b[39mqueue\u001b[38;5;241m.\u001b[39mEmpty:\n",
      "File \u001b[0;32msrc/gevent/queue.py:335\u001b[0m, in \u001b[0;36mgevent._gevent_cqueue.Queue.get\u001b[0;34m()\u001b[0m\n",
      "File \u001b[0;32msrc/gevent/queue.py:350\u001b[0m, in \u001b[0;36mgevent._gevent_cqueue.Queue.get\u001b[0;34m()\u001b[0m\n",
      "File \u001b[0;32msrc/gevent/queue.py:319\u001b[0m, in \u001b[0;36mgevent._gevent_cqueue.Queue._Queue__get_or_peek\u001b[0;34m()\u001b[0m\n",
      "\u001b[0;31mEmpty\u001b[0m: ",
      "\nDuring handling of the above exception, another exception occurred:\n",
      "\u001b[0;31mgaierror\u001b[0m                                  Traceback (most recent call last)",
      "Cell \u001b[0;32mIn[14], line 2\u001b[0m\n\u001b[1;32m      1\u001b[0m model_name \u001b[38;5;241m=\u001b[39m \u001b[38;5;124m\"\u001b[39m\u001b[38;5;124mensemble\u001b[39m\u001b[38;5;124m\"\u001b[39m\n\u001b[0;32m----> 2\u001b[0m \u001b[43mclient\u001b[49m\u001b[38;5;241;43m.\u001b[39;49m\u001b[43mload_model\u001b[49m\u001b[43m(\u001b[49m\u001b[43mmodel_name\u001b[49m\u001b[43m)\u001b[49m\n\u001b[1;32m      3\u001b[0m val \u001b[38;5;241m=\u001b[39m client\u001b[38;5;241m.\u001b[39mrequest(model_name, \u001b[38;5;241m*\u001b[39m\u001b[38;5;241m*\u001b[39mpload)\n\u001b[1;32m      4\u001b[0m \u001b[38;5;28mprint\u001b[39m(val)\n",
      "File \u001b[0;32m/kqi/git/notebooks/triton_trt_llm.py:284\u001b[0m, in \u001b[0;36m_BaseTritonClient.load_model\u001b[0;34m(self, model_name, timeout)\u001b[0m\n\u001b[1;32m    282\u001b[0m \u001b[38;5;28;01mdef\u001b[39;00m \u001b[38;5;21mload_model\u001b[39m(\u001b[38;5;28mself\u001b[39m, model_name: \u001b[38;5;28mstr\u001b[39m, timeout: \u001b[38;5;28mint\u001b[39m \u001b[38;5;241m=\u001b[39m \u001b[38;5;241m1000\u001b[39m) \u001b[38;5;241m-\u001b[39m\u001b[38;5;241m>\u001b[39m \u001b[38;5;28;01mNone\u001b[39;00m:\n\u001b[1;32m    283\u001b[0m \u001b[38;5;250m    \u001b[39m\u001b[38;5;124;03m\"\"\"Load a model into the server.\"\"\"\u001b[39;00m\n\u001b[0;32m--> 284\u001b[0m     \u001b[38;5;28;01mif\u001b[39;00m \u001b[38;5;28;43mself\u001b[39;49m\u001b[38;5;241;43m.\u001b[39;49m\u001b[43m_client\u001b[49m\u001b[38;5;241;43m.\u001b[39;49m\u001b[43mis_model_ready\u001b[49m\u001b[43m(\u001b[49m\u001b[43mmodel_name\u001b[49m\u001b[43m)\u001b[49m:\n\u001b[1;32m    285\u001b[0m         \u001b[38;5;28;01mreturn\u001b[39;00m\n\u001b[1;32m    287\u001b[0m     \u001b[38;5;28mself\u001b[39m\u001b[38;5;241m.\u001b[39m_client\u001b[38;5;241m.\u001b[39mload_model(model_name)\n",
      "File \u001b[0;32m/usr/local/lib/python3.10/dist-packages/tritonclient/http/_client.py:441\u001b[0m, in \u001b[0;36mInferenceServerClient.is_model_ready\u001b[0;34m(self, model_name, model_version, headers, query_params)\u001b[0m\n\u001b[1;32m    438\u001b[0m \u001b[38;5;28;01melse\u001b[39;00m:\n\u001b[1;32m    439\u001b[0m     request_uri \u001b[38;5;241m=\u001b[39m \u001b[38;5;124m\"\u001b[39m\u001b[38;5;124mv2/models/\u001b[39m\u001b[38;5;132;01m{}\u001b[39;00m\u001b[38;5;124m/ready\u001b[39m\u001b[38;5;124m\"\u001b[39m\u001b[38;5;241m.\u001b[39mformat(quote(model_name))\n\u001b[0;32m--> 441\u001b[0m response \u001b[38;5;241m=\u001b[39m \u001b[38;5;28;43mself\u001b[39;49m\u001b[38;5;241;43m.\u001b[39;49m\u001b[43m_get\u001b[49m\u001b[43m(\u001b[49m\n\u001b[1;32m    442\u001b[0m \u001b[43m    \u001b[49m\u001b[43mrequest_uri\u001b[49m\u001b[38;5;241;43m=\u001b[39;49m\u001b[43mrequest_uri\u001b[49m\u001b[43m,\u001b[49m\u001b[43m \u001b[49m\u001b[43mheaders\u001b[49m\u001b[38;5;241;43m=\u001b[39;49m\u001b[43mheaders\u001b[49m\u001b[43m,\u001b[49m\u001b[43m \u001b[49m\u001b[43mquery_params\u001b[49m\u001b[38;5;241;43m=\u001b[39;49m\u001b[43mquery_params\u001b[49m\n\u001b[1;32m    443\u001b[0m \u001b[43m\u001b[49m\u001b[43m)\u001b[49m\n\u001b[1;32m    445\u001b[0m \u001b[38;5;28;01mreturn\u001b[39;00m response\u001b[38;5;241m.\u001b[39mstatus_code \u001b[38;5;241m==\u001b[39m \u001b[38;5;241m200\u001b[39m\n",
      "File \u001b[0;32m/usr/local/lib/python3.10/dist-packages/tritonclient/http/_client.py:250\u001b[0m, in \u001b[0;36mInferenceServerClient._get\u001b[0;34m(self, request_uri, headers, query_params)\u001b[0m\n\u001b[1;32m    247\u001b[0m     \u001b[38;5;28mprint\u001b[39m(\u001b[38;5;124m\"\u001b[39m\u001b[38;5;124mGET \u001b[39m\u001b[38;5;132;01m{}\u001b[39;00m\u001b[38;5;124m, headers \u001b[39m\u001b[38;5;132;01m{}\u001b[39;00m\u001b[38;5;124m\"\u001b[39m\u001b[38;5;241m.\u001b[39mformat(request_uri, headers))\n\u001b[1;32m    249\u001b[0m \u001b[38;5;28;01mif\u001b[39;00m headers \u001b[38;5;129;01mis\u001b[39;00m \u001b[38;5;129;01mnot\u001b[39;00m \u001b[38;5;28;01mNone\u001b[39;00m:\n\u001b[0;32m--> 250\u001b[0m     response \u001b[38;5;241m=\u001b[39m \u001b[38;5;28;43mself\u001b[39;49m\u001b[38;5;241;43m.\u001b[39;49m\u001b[43m_client_stub\u001b[49m\u001b[38;5;241;43m.\u001b[39;49m\u001b[43mget\u001b[49m\u001b[43m(\u001b[49m\u001b[43mrequest_uri\u001b[49m\u001b[43m,\u001b[49m\u001b[43m \u001b[49m\u001b[43mheaders\u001b[49m\u001b[38;5;241;43m=\u001b[39;49m\u001b[43mheaders\u001b[49m\u001b[43m)\u001b[49m\n\u001b[1;32m    251\u001b[0m \u001b[38;5;28;01melse\u001b[39;00m:\n\u001b[1;32m    252\u001b[0m     response \u001b[38;5;241m=\u001b[39m \u001b[38;5;28mself\u001b[39m\u001b[38;5;241m.\u001b[39m_client_stub\u001b[38;5;241m.\u001b[39mget(request_uri)\n",
      "File \u001b[0;32m/usr/local/lib/python3.10/dist-packages/geventhttpclient/client.py:266\u001b[0m, in \u001b[0;36mHTTPClient.get\u001b[0;34m(self, request_uri, headers)\u001b[0m\n\u001b[1;32m    265\u001b[0m \u001b[38;5;28;01mdef\u001b[39;00m \u001b[38;5;21mget\u001b[39m(\u001b[38;5;28mself\u001b[39m, request_uri, headers\u001b[38;5;241m=\u001b[39m{}):\n\u001b[0;32m--> 266\u001b[0m     \u001b[38;5;28;01mreturn\u001b[39;00m \u001b[38;5;28;43mself\u001b[39;49m\u001b[38;5;241;43m.\u001b[39;49m\u001b[43mrequest\u001b[49m\u001b[43m(\u001b[49m\u001b[43mMETHOD_GET\u001b[49m\u001b[43m,\u001b[49m\u001b[43m \u001b[49m\u001b[43mrequest_uri\u001b[49m\u001b[43m,\u001b[49m\u001b[43m \u001b[49m\u001b[43mheaders\u001b[49m\u001b[38;5;241;43m=\u001b[39;49m\u001b[43mheaders\u001b[49m\u001b[43m)\u001b[49m\n",
      "File \u001b[0;32m/usr/local/lib/python3.10/dist-packages/geventhttpclient/client.py:226\u001b[0m, in \u001b[0;36mHTTPClient.request\u001b[0;34m(self, method, request_uri, body, headers)\u001b[0m\n\u001b[1;32m    223\u001b[0m attempts_left \u001b[38;5;241m=\u001b[39m \u001b[38;5;28mself\u001b[39m\u001b[38;5;241m.\u001b[39m_connection_pool\u001b[38;5;241m.\u001b[39msize \u001b[38;5;241m+\u001b[39m \u001b[38;5;241m1\u001b[39m\n\u001b[1;32m    225\u001b[0m \u001b[38;5;28;01mwhile\u001b[39;00m \u001b[38;5;241m1\u001b[39m:\n\u001b[0;32m--> 226\u001b[0m     sock \u001b[38;5;241m=\u001b[39m \u001b[38;5;28;43mself\u001b[39;49m\u001b[38;5;241;43m.\u001b[39;49m\u001b[43m_connection_pool\u001b[49m\u001b[38;5;241;43m.\u001b[39;49m\u001b[43mget_socket\u001b[49m\u001b[43m(\u001b[49m\u001b[43m)\u001b[49m\n\u001b[1;32m    227\u001b[0m     \u001b[38;5;28;01mtry\u001b[39;00m:\n\u001b[1;32m    228\u001b[0m         _request \u001b[38;5;241m=\u001b[39m request\u001b[38;5;241m.\u001b[39mencode()\n",
      "File \u001b[0;32m/usr/local/lib/python3.10/dist-packages/geventhttpclient/connectionpool.py:166\u001b[0m, in \u001b[0;36mConnectionPool.get_socket\u001b[0;34m(self)\u001b[0m\n\u001b[1;32m    164\u001b[0m \u001b[38;5;28;01mexcept\u001b[39;00m gevent\u001b[38;5;241m.\u001b[39mqueue\u001b[38;5;241m.\u001b[39mEmpty:\n\u001b[1;32m    165\u001b[0m     \u001b[38;5;28;01mtry\u001b[39;00m:\n\u001b[0;32m--> 166\u001b[0m         \u001b[38;5;28;01mreturn\u001b[39;00m \u001b[38;5;28;43mself\u001b[39;49m\u001b[38;5;241;43m.\u001b[39;49m\u001b[43m_create_socket\u001b[49m\u001b[43m(\u001b[49m\u001b[43m)\u001b[49m\n\u001b[1;32m    167\u001b[0m     \u001b[38;5;28;01mexcept\u001b[39;00m:\n\u001b[1;32m    168\u001b[0m         \u001b[38;5;28mself\u001b[39m\u001b[38;5;241m.\u001b[39m_semaphore\u001b[38;5;241m.\u001b[39mrelease()\n",
      "File \u001b[0;32m/usr/local/lib/python3.10/dist-packages/geventhttpclient/connectionpool.py:102\u001b[0m, in \u001b[0;36mConnectionPool._create_socket\u001b[0;34m(self)\u001b[0m\n\u001b[1;32m     98\u001b[0m \u001b[38;5;28;01mdef\u001b[39;00m \u001b[38;5;21m_create_socket\u001b[39m(\u001b[38;5;28mself\u001b[39m):\n\u001b[1;32m     99\u001b[0m \u001b[38;5;250m    \u001b[39m\u001b[38;5;124;03m\"\"\" might be overridden and super for wrapping into a ssl socket\u001b[39;00m\n\u001b[1;32m    100\u001b[0m \u001b[38;5;124;03m        or set tcp/socket options\u001b[39;00m\n\u001b[1;32m    101\u001b[0m \u001b[38;5;124;03m    \"\"\"\u001b[39;00m\n\u001b[0;32m--> 102\u001b[0m     sock_infos \u001b[38;5;241m=\u001b[39m \u001b[38;5;28;43mself\u001b[39;49m\u001b[38;5;241;43m.\u001b[39;49m\u001b[43m_resolve\u001b[49m\u001b[43m(\u001b[49m\u001b[43m)\u001b[49m\n\u001b[1;32m    103\u001b[0m     first_error \u001b[38;5;241m=\u001b[39m \u001b[38;5;28;01mNone\u001b[39;00m\n\u001b[1;32m    104\u001b[0m     \u001b[38;5;28;01mfor\u001b[39;00m sock_info \u001b[38;5;129;01min\u001b[39;00m sock_infos:\n",
      "File \u001b[0;32m/usr/local/lib/python3.10/dist-packages/geventhttpclient/connectionpool.py:74\u001b[0m, in \u001b[0;36mConnectionPool._resolve\u001b[0;34m(self)\u001b[0m\n\u001b[1;32m     72\u001b[0m \u001b[38;5;28;01mif\u001b[39;00m \u001b[38;5;28mself\u001b[39m\u001b[38;5;241m.\u001b[39mdisable_ipv6:\n\u001b[1;32m     73\u001b[0m     family \u001b[38;5;241m=\u001b[39m gevent\u001b[38;5;241m.\u001b[39msocket\u001b[38;5;241m.\u001b[39mAF_INET\n\u001b[0;32m---> 74\u001b[0m info \u001b[38;5;241m=\u001b[39m \u001b[43mgevent\u001b[49m\u001b[38;5;241;43m.\u001b[39;49m\u001b[43msocket\u001b[49m\u001b[38;5;241;43m.\u001b[39;49m\u001b[43mgetaddrinfo\u001b[49m\u001b[43m(\u001b[49m\u001b[38;5;28;43mself\u001b[39;49m\u001b[38;5;241;43m.\u001b[39;49m\u001b[43m_connection_host\u001b[49m\u001b[43m,\u001b[49m\n\u001b[1;32m     75\u001b[0m \u001b[43m                                 \u001b[49m\u001b[38;5;28;43mself\u001b[39;49m\u001b[38;5;241;43m.\u001b[39;49m\u001b[43m_connection_port\u001b[49m\u001b[43m,\u001b[49m\n\u001b[1;32m     76\u001b[0m \u001b[43m                                 \u001b[49m\u001b[43mfamily\u001b[49m\u001b[43m,\u001b[49m\u001b[43m \u001b[49m\u001b[38;5;241;43m0\u001b[39;49m\u001b[43m,\u001b[49m\u001b[43m \u001b[49m\u001b[43mgevent\u001b[49m\u001b[38;5;241;43m.\u001b[39;49m\u001b[43msocket\u001b[49m\u001b[38;5;241;43m.\u001b[39;49m\u001b[43mSOL_TCP\u001b[49m\u001b[43m)\u001b[49m\n\u001b[1;32m     77\u001b[0m \u001b[38;5;66;03m# family, socktype, proto, canonname, sockaddr = info[0]\u001b[39;00m\n\u001b[1;32m     78\u001b[0m \u001b[38;5;28;01mreturn\u001b[39;00m info\n",
      "File \u001b[0;32m/usr/local/lib/python3.10/dist-packages/gevent/_socketcommon.py:225\u001b[0m, in \u001b[0;36mgetaddrinfo\u001b[0;34m(host, port, family, type, proto, flags)\u001b[0m\n\u001b[1;32m    206\u001b[0m \u001b[38;5;250m\u001b[39m\u001b[38;5;124;03m\"\"\"\u001b[39;00m\n\u001b[1;32m    207\u001b[0m \u001b[38;5;124;03mResolve host and port into list of address info entries.\u001b[39;00m\n\u001b[1;32m    208\u001b[0m \n\u001b[0;32m   (...)\u001b[0m\n\u001b[1;32m    220\u001b[0m \u001b[38;5;124;03m.. seealso:: :doc:`/dns`\u001b[39;00m\n\u001b[1;32m    221\u001b[0m \u001b[38;5;124;03m\"\"\"\u001b[39;00m\n\u001b[1;32m    222\u001b[0m \u001b[38;5;66;03m# Also, on Python 3, we need to translate into the special enums.\u001b[39;00m\n\u001b[1;32m    223\u001b[0m \u001b[38;5;66;03m# Our lower-level resolvers, including the thread and blocking, which use _socket,\u001b[39;00m\n\u001b[1;32m    224\u001b[0m \u001b[38;5;66;03m# function simply with integers.\u001b[39;00m\n\u001b[0;32m--> 225\u001b[0m addrlist \u001b[38;5;241m=\u001b[39m \u001b[43mget_hub\u001b[49m\u001b[43m(\u001b[49m\u001b[43m)\u001b[49m\u001b[38;5;241;43m.\u001b[39;49m\u001b[43mresolver\u001b[49m\u001b[38;5;241;43m.\u001b[39;49m\u001b[43mgetaddrinfo\u001b[49m\u001b[43m(\u001b[49m\u001b[43mhost\u001b[49m\u001b[43m,\u001b[49m\u001b[43m \u001b[49m\u001b[43mport\u001b[49m\u001b[43m,\u001b[49m\u001b[43m \u001b[49m\u001b[43mfamily\u001b[49m\u001b[43m,\u001b[49m\u001b[43m \u001b[49m\u001b[38;5;28;43mtype\u001b[39;49m\u001b[43m,\u001b[49m\u001b[43m \u001b[49m\u001b[43mproto\u001b[49m\u001b[43m,\u001b[49m\u001b[43m \u001b[49m\u001b[43mflags\u001b[49m\u001b[43m)\u001b[49m\n\u001b[1;32m    226\u001b[0m result \u001b[38;5;241m=\u001b[39m [\n\u001b[1;32m    227\u001b[0m     \u001b[38;5;66;03m# pylint:disable=undefined-variable\u001b[39;00m\n\u001b[1;32m    228\u001b[0m     (_intenum_converter(af, AddressFamily),\n\u001b[0;32m   (...)\u001b[0m\n\u001b[1;32m    232\u001b[0m     \u001b[38;5;129;01min\u001b[39;00m addrlist\n\u001b[1;32m    233\u001b[0m ]\n\u001b[1;32m    234\u001b[0m \u001b[38;5;28;01mreturn\u001b[39;00m result\n",
      "File \u001b[0;32m/usr/local/lib/python3.10/dist-packages/gevent/resolver/thread.py:63\u001b[0m, in \u001b[0;36mResolver.getaddrinfo\u001b[0;34m(self, *args, **kwargs)\u001b[0m\n\u001b[1;32m     62\u001b[0m \u001b[38;5;28;01mdef\u001b[39;00m \u001b[38;5;21mgetaddrinfo\u001b[39m(\u001b[38;5;28mself\u001b[39m, \u001b[38;5;241m*\u001b[39margs, \u001b[38;5;241m*\u001b[39m\u001b[38;5;241m*\u001b[39mkwargs):\n\u001b[0;32m---> 63\u001b[0m     \u001b[38;5;28;01mreturn\u001b[39;00m \u001b[38;5;28;43mself\u001b[39;49m\u001b[38;5;241;43m.\u001b[39;49m\u001b[43mpool\u001b[49m\u001b[38;5;241;43m.\u001b[39;49m\u001b[43mapply\u001b[49m\u001b[43m(\u001b[49m\u001b[43m_socket\u001b[49m\u001b[38;5;241;43m.\u001b[39;49m\u001b[43mgetaddrinfo\u001b[49m\u001b[43m,\u001b[49m\u001b[43m \u001b[49m\u001b[43margs\u001b[49m\u001b[43m,\u001b[49m\u001b[43m \u001b[49m\u001b[43mkwargs\u001b[49m\u001b[43m)\u001b[49m\n",
      "File \u001b[0;32m/usr/local/lib/python3.10/dist-packages/gevent/pool.py:161\u001b[0m, in \u001b[0;36mGroupMappingMixin.apply\u001b[0;34m(self, func, args, kwds)\u001b[0m\n\u001b[1;32m    159\u001b[0m \u001b[38;5;28;01mif\u001b[39;00m \u001b[38;5;28mself\u001b[39m\u001b[38;5;241m.\u001b[39m_apply_immediately():\n\u001b[1;32m    160\u001b[0m     \u001b[38;5;28;01mreturn\u001b[39;00m func(\u001b[38;5;241m*\u001b[39margs, \u001b[38;5;241m*\u001b[39m\u001b[38;5;241m*\u001b[39mkwds)\n\u001b[0;32m--> 161\u001b[0m \u001b[38;5;28;01mreturn\u001b[39;00m \u001b[38;5;28;43mself\u001b[39;49m\u001b[38;5;241;43m.\u001b[39;49m\u001b[43mspawn\u001b[49m\u001b[43m(\u001b[49m\u001b[43mfunc\u001b[49m\u001b[43m,\u001b[49m\u001b[43m \u001b[49m\u001b[38;5;241;43m*\u001b[39;49m\u001b[43margs\u001b[49m\u001b[43m,\u001b[49m\u001b[43m \u001b[49m\u001b[38;5;241;43m*\u001b[39;49m\u001b[38;5;241;43m*\u001b[39;49m\u001b[43mkwds\u001b[49m\u001b[43m)\u001b[49m\u001b[38;5;241;43m.\u001b[39;49m\u001b[43mget\u001b[49m\u001b[43m(\u001b[49m\u001b[43m)\u001b[49m\n",
      "File \u001b[0;32msrc/gevent/event.py:329\u001b[0m, in \u001b[0;36mgevent._gevent_cevent.AsyncResult.get\u001b[0;34m()\u001b[0m\n",
      "File \u001b[0;32msrc/gevent/event.py:359\u001b[0m, in \u001b[0;36mgevent._gevent_cevent.AsyncResult.get\u001b[0;34m()\u001b[0m\n",
      "File \u001b[0;32msrc/gevent/event.py:347\u001b[0m, in \u001b[0;36mgevent._gevent_cevent.AsyncResult.get\u001b[0;34m()\u001b[0m\n",
      "File \u001b[0;32msrc/gevent/event.py:327\u001b[0m, in \u001b[0;36mgevent._gevent_cevent.AsyncResult._raise_exception\u001b[0;34m()\u001b[0m\n",
      "File \u001b[0;32m/usr/local/lib/python3.10/dist-packages/gevent/_compat.py:49\u001b[0m, in \u001b[0;36mreraise\u001b[0;34m(t, value, tb)\u001b[0m\n\u001b[1;32m     47\u001b[0m \u001b[38;5;28;01mdef\u001b[39;00m \u001b[38;5;21mreraise\u001b[39m(t, value, tb\u001b[38;5;241m=\u001b[39m\u001b[38;5;28;01mNone\u001b[39;00m): \u001b[38;5;66;03m# pylint:disable=unused-argument\u001b[39;00m\n\u001b[1;32m     48\u001b[0m     \u001b[38;5;28;01mif\u001b[39;00m value\u001b[38;5;241m.\u001b[39m__traceback__ \u001b[38;5;129;01mis\u001b[39;00m \u001b[38;5;129;01mnot\u001b[39;00m tb \u001b[38;5;129;01mand\u001b[39;00m tb \u001b[38;5;129;01mis\u001b[39;00m \u001b[38;5;129;01mnot\u001b[39;00m \u001b[38;5;28;01mNone\u001b[39;00m:\n\u001b[0;32m---> 49\u001b[0m         \u001b[38;5;28;01mraise\u001b[39;00m value\u001b[38;5;241m.\u001b[39mwith_traceback(tb)\n\u001b[1;32m     50\u001b[0m     \u001b[38;5;28;01mraise\u001b[39;00m value\n",
      "File \u001b[0;32m/usr/local/lib/python3.10/dist-packages/gevent/threadpool.py:173\u001b[0m, in \u001b[0;36m__run_task\u001b[0;34m()\u001b[0m\n\u001b[1;32m    171\u001b[0m \u001b[38;5;28mself\u001b[39m\u001b[38;5;241m.\u001b[39m_before_run_task(func, args, kwargs, thread_result)\n\u001b[1;32m    172\u001b[0m \u001b[38;5;28;01mtry\u001b[39;00m:\n\u001b[0;32m--> 173\u001b[0m     thread_result\u001b[38;5;241m.\u001b[39mset(func(\u001b[38;5;241m*\u001b[39margs, \u001b[38;5;241m*\u001b[39m\u001b[38;5;241m*\u001b[39mkwargs))\n\u001b[1;32m    174\u001b[0m \u001b[38;5;28;01mexcept\u001b[39;00m: \u001b[38;5;66;03m# pylint:disable=bare-except\u001b[39;00m\n\u001b[1;32m    175\u001b[0m     thread_result\u001b[38;5;241m.\u001b[39mhandle_error((\u001b[38;5;28mself\u001b[39m, func), \u001b[38;5;28mself\u001b[39m\u001b[38;5;241m.\u001b[39m_exc_info())\n",
      "\u001b[0;31mgaierror\u001b[0m: [Errno -5] No address associated with hostname"
     ]
    }
   ],
   "source": [
    "model_name = \"ensemble\"\n",
    "client.load_model(model_name)\n",
    "val = client.request(model_name, **pload)\n",
    "print(val)"
   ]
  },
  {
   "cell_type": "code",
   "execution_count": null,
   "id": "070b3b84",
   "metadata": {},
   "outputs": [],
   "source": []
  }
 ],
 "metadata": {
  "kernelspec": {
   "display_name": "Python 3 (ipykernel)",
   "language": "python",
   "name": "python3"
  },
  "language_info": {
   "codemirror_mode": {
    "name": "ipython",
    "version": 3
   },
   "file_extension": ".py",
   "mimetype": "text/x-python",
   "name": "python",
   "nbconvert_exporter": "python",
   "pygments_lexer": "ipython3",
   "version": "3.10.12"
  }
 },
 "nbformat": 4,
 "nbformat_minor": 5
}
